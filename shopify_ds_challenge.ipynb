{
 "cells": [
  {
   "cell_type": "code",
   "execution_count": 1,
   "id": "4267b03f",
   "metadata": {},
   "outputs": [],
   "source": [
    "import pandas as pd\n",
    "import numpy as np\n",
    "import seaborn as sns\n",
    "import matplotlib.pyplot as plt"
   ]
  },
  {
   "cell_type": "markdown",
   "id": "9bc89afe",
   "metadata": {},
   "source": [
    "#### loading the dataset. and first look at the data"
   ]
  },
  {
   "cell_type": "code",
   "execution_count": 2,
   "id": "09a3187d",
   "metadata": {},
   "outputs": [],
   "source": [
    "data = pd.read_csv(\"2019 Winter Data Science Intern Challenge Data Set - Sheet1.csv\")"
   ]
  },
  {
   "cell_type": "code",
   "execution_count": 3,
   "id": "f5fceb77",
   "metadata": {},
   "outputs": [
    {
     "data": {
      "text/html": [
       "<div>\n",
       "<style scoped>\n",
       "    .dataframe tbody tr th:only-of-type {\n",
       "        vertical-align: middle;\n",
       "    }\n",
       "\n",
       "    .dataframe tbody tr th {\n",
       "        vertical-align: top;\n",
       "    }\n",
       "\n",
       "    .dataframe thead th {\n",
       "        text-align: right;\n",
       "    }\n",
       "</style>\n",
       "<table border=\"1\" class=\"dataframe\">\n",
       "  <thead>\n",
       "    <tr style=\"text-align: right;\">\n",
       "      <th></th>\n",
       "      <th>order_id</th>\n",
       "      <th>shop_id</th>\n",
       "      <th>user_id</th>\n",
       "      <th>order_amount</th>\n",
       "      <th>total_items</th>\n",
       "      <th>payment_method</th>\n",
       "      <th>created_at</th>\n",
       "    </tr>\n",
       "  </thead>\n",
       "  <tbody>\n",
       "    <tr>\n",
       "      <th>0</th>\n",
       "      <td>1</td>\n",
       "      <td>53</td>\n",
       "      <td>746</td>\n",
       "      <td>224</td>\n",
       "      <td>2</td>\n",
       "      <td>cash</td>\n",
       "      <td>2017-03-13 12:36:56</td>\n",
       "    </tr>\n",
       "    <tr>\n",
       "      <th>1</th>\n",
       "      <td>2</td>\n",
       "      <td>92</td>\n",
       "      <td>925</td>\n",
       "      <td>90</td>\n",
       "      <td>1</td>\n",
       "      <td>cash</td>\n",
       "      <td>2017-03-03 17:38:52</td>\n",
       "    </tr>\n",
       "    <tr>\n",
       "      <th>2</th>\n",
       "      <td>3</td>\n",
       "      <td>44</td>\n",
       "      <td>861</td>\n",
       "      <td>144</td>\n",
       "      <td>1</td>\n",
       "      <td>cash</td>\n",
       "      <td>2017-03-14 4:23:56</td>\n",
       "    </tr>\n",
       "    <tr>\n",
       "      <th>3</th>\n",
       "      <td>4</td>\n",
       "      <td>18</td>\n",
       "      <td>935</td>\n",
       "      <td>156</td>\n",
       "      <td>1</td>\n",
       "      <td>credit_card</td>\n",
       "      <td>2017-03-26 12:43:37</td>\n",
       "    </tr>\n",
       "    <tr>\n",
       "      <th>4</th>\n",
       "      <td>5</td>\n",
       "      <td>18</td>\n",
       "      <td>883</td>\n",
       "      <td>156</td>\n",
       "      <td>1</td>\n",
       "      <td>credit_card</td>\n",
       "      <td>2017-03-01 4:35:11</td>\n",
       "    </tr>\n",
       "    <tr>\n",
       "      <th>...</th>\n",
       "      <td>...</td>\n",
       "      <td>...</td>\n",
       "      <td>...</td>\n",
       "      <td>...</td>\n",
       "      <td>...</td>\n",
       "      <td>...</td>\n",
       "      <td>...</td>\n",
       "    </tr>\n",
       "    <tr>\n",
       "      <th>4995</th>\n",
       "      <td>4996</td>\n",
       "      <td>73</td>\n",
       "      <td>993</td>\n",
       "      <td>330</td>\n",
       "      <td>2</td>\n",
       "      <td>debit</td>\n",
       "      <td>2017-03-30 13:47:17</td>\n",
       "    </tr>\n",
       "    <tr>\n",
       "      <th>4996</th>\n",
       "      <td>4997</td>\n",
       "      <td>48</td>\n",
       "      <td>789</td>\n",
       "      <td>234</td>\n",
       "      <td>2</td>\n",
       "      <td>cash</td>\n",
       "      <td>2017-03-16 20:36:16</td>\n",
       "    </tr>\n",
       "    <tr>\n",
       "      <th>4997</th>\n",
       "      <td>4998</td>\n",
       "      <td>56</td>\n",
       "      <td>867</td>\n",
       "      <td>351</td>\n",
       "      <td>3</td>\n",
       "      <td>cash</td>\n",
       "      <td>2017-03-19 5:42:42</td>\n",
       "    </tr>\n",
       "    <tr>\n",
       "      <th>4998</th>\n",
       "      <td>4999</td>\n",
       "      <td>60</td>\n",
       "      <td>825</td>\n",
       "      <td>354</td>\n",
       "      <td>2</td>\n",
       "      <td>credit_card</td>\n",
       "      <td>2017-03-16 14:51:18</td>\n",
       "    </tr>\n",
       "    <tr>\n",
       "      <th>4999</th>\n",
       "      <td>5000</td>\n",
       "      <td>44</td>\n",
       "      <td>734</td>\n",
       "      <td>288</td>\n",
       "      <td>2</td>\n",
       "      <td>debit</td>\n",
       "      <td>2017-03-18 15:48:18</td>\n",
       "    </tr>\n",
       "  </tbody>\n",
       "</table>\n",
       "<p>5000 rows × 7 columns</p>\n",
       "</div>"
      ],
      "text/plain": [
       "      order_id  shop_id  user_id  order_amount  total_items payment_method  \\\n",
       "0            1       53      746           224            2           cash   \n",
       "1            2       92      925            90            1           cash   \n",
       "2            3       44      861           144            1           cash   \n",
       "3            4       18      935           156            1    credit_card   \n",
       "4            5       18      883           156            1    credit_card   \n",
       "...        ...      ...      ...           ...          ...            ...   \n",
       "4995      4996       73      993           330            2          debit   \n",
       "4996      4997       48      789           234            2           cash   \n",
       "4997      4998       56      867           351            3           cash   \n",
       "4998      4999       60      825           354            2    credit_card   \n",
       "4999      5000       44      734           288            2          debit   \n",
       "\n",
       "               created_at  \n",
       "0     2017-03-13 12:36:56  \n",
       "1     2017-03-03 17:38:52  \n",
       "2      2017-03-14 4:23:56  \n",
       "3     2017-03-26 12:43:37  \n",
       "4      2017-03-01 4:35:11  \n",
       "...                   ...  \n",
       "4995  2017-03-30 13:47:17  \n",
       "4996  2017-03-16 20:36:16  \n",
       "4997   2017-03-19 5:42:42  \n",
       "4998  2017-03-16 14:51:18  \n",
       "4999  2017-03-18 15:48:18  \n",
       "\n",
       "[5000 rows x 7 columns]"
      ]
     },
     "execution_count": 3,
     "metadata": {},
     "output_type": "execute_result"
    }
   ],
   "source": [
    "data"
   ]
  },
  {
   "cell_type": "code",
   "execution_count": 4,
   "id": "8377cb76",
   "metadata": {},
   "outputs": [
    {
     "data": {
      "text/plain": [
       "order_id          0\n",
       "shop_id           0\n",
       "user_id           0\n",
       "order_amount      0\n",
       "total_items       0\n",
       "payment_method    0\n",
       "created_at        0\n",
       "dtype: int64"
      ]
     },
     "execution_count": 4,
     "metadata": {},
     "output_type": "execute_result"
    }
   ],
   "source": [
    "data.isnull().sum()"
   ]
  },
  {
   "cell_type": "code",
   "execution_count": 5,
   "id": "088554fb",
   "metadata": {},
   "outputs": [
    {
     "data": {
      "text/plain": [
       "100"
      ]
     },
     "execution_count": 5,
     "metadata": {},
     "output_type": "execute_result"
    }
   ],
   "source": [
    "data['shop_id'].nunique()"
   ]
  },
  {
   "cell_type": "markdown",
   "id": "74d33c4e",
   "metadata": {},
   "source": [
    "#### just the thought that in September 2017 someone might not have bought sneakers and maybe among the lost we could find something interesting. since we have a dataset with users from 607 to 999, let's check if everyone got there, we do not take numbers from 1 to 607 and above 999, since such a hypothesis is too far-fetched than the one that if there are no numbers between the number 607 and 999"
   ]
  },
  {
   "cell_type": "code",
   "execution_count": 6,
   "id": "b21d7fe9",
   "metadata": {},
   "outputs": [],
   "source": [
    "user_id = data['user_id'].to_numpy()\n",
    "user_ids = np.linspace(607, 999, 393)"
   ]
  },
  {
   "cell_type": "code",
   "execution_count": 7,
   "id": "3744dc90",
   "metadata": {},
   "outputs": [
    {
     "data": {
      "text/html": [
       "<div>\n",
       "<style scoped>\n",
       "    .dataframe tbody tr th:only-of-type {\n",
       "        vertical-align: middle;\n",
       "    }\n",
       "\n",
       "    .dataframe tbody tr th {\n",
       "        vertical-align: top;\n",
       "    }\n",
       "\n",
       "    .dataframe thead th {\n",
       "        text-align: right;\n",
       "    }\n",
       "</style>\n",
       "<table border=\"1\" class=\"dataframe\">\n",
       "  <thead>\n",
       "    <tr style=\"text-align: right;\">\n",
       "      <th></th>\n",
       "      <th>user_id</th>\n",
       "    </tr>\n",
       "  </thead>\n",
       "  <tbody>\n",
       "    <tr>\n",
       "      <th>0</th>\n",
       "      <td>608.0</td>\n",
       "    </tr>\n",
       "    <tr>\n",
       "      <th>1</th>\n",
       "      <td>609.0</td>\n",
       "    </tr>\n",
       "    <tr>\n",
       "      <th>2</th>\n",
       "      <td>610.0</td>\n",
       "    </tr>\n",
       "    <tr>\n",
       "      <th>3</th>\n",
       "      <td>611.0</td>\n",
       "    </tr>\n",
       "    <tr>\n",
       "      <th>4</th>\n",
       "      <td>612.0</td>\n",
       "    </tr>\n",
       "  </tbody>\n",
       "</table>\n",
       "</div>"
      ],
      "text/plain": [
       "   user_id\n",
       "0    608.0\n",
       "1    609.0\n",
       "2    610.0\n",
       "3    611.0\n",
       "4    612.0"
      ]
     },
     "execution_count": 7,
     "metadata": {},
     "output_type": "execute_result"
    }
   ],
   "source": [
    "missed_ids = np.setxor1d(user_id, user_ids)\n",
    "missed_ids = pd.DataFrame(missed_ids, columns=['user_id'])\n",
    "missed_ids.head(5)"
   ]
  },
  {
   "cell_type": "code",
   "execution_count": 8,
   "id": "d8690cd3",
   "metadata": {},
   "outputs": [
    {
     "data": {
      "text/html": [
       "<div>\n",
       "<style scoped>\n",
       "    .dataframe tbody tr th:only-of-type {\n",
       "        vertical-align: middle;\n",
       "    }\n",
       "\n",
       "    .dataframe tbody tr th {\n",
       "        vertical-align: top;\n",
       "    }\n",
       "\n",
       "    .dataframe thead th {\n",
       "        text-align: right;\n",
       "    }\n",
       "</style>\n",
       "<table border=\"1\" class=\"dataframe\">\n",
       "  <thead>\n",
       "    <tr style=\"text-align: right;\">\n",
       "      <th></th>\n",
       "      <th>order_id</th>\n",
       "      <th>shop_id</th>\n",
       "      <th>user_id</th>\n",
       "      <th>order_amount</th>\n",
       "      <th>total_items</th>\n",
       "      <th>price_per_item</th>\n",
       "    </tr>\n",
       "  </thead>\n",
       "  <tbody>\n",
       "    <tr>\n",
       "      <th>count</th>\n",
       "      <td>5000.000000</td>\n",
       "      <td>5000.000000</td>\n",
       "      <td>5000.000000</td>\n",
       "      <td>5000.000000</td>\n",
       "      <td>5000.00000</td>\n",
       "      <td>5000.000000</td>\n",
       "    </tr>\n",
       "    <tr>\n",
       "      <th>mean</th>\n",
       "      <td>2500.500000</td>\n",
       "      <td>50.078800</td>\n",
       "      <td>849.092400</td>\n",
       "      <td>3145.128000</td>\n",
       "      <td>8.78720</td>\n",
       "      <td>387.742800</td>\n",
       "    </tr>\n",
       "    <tr>\n",
       "      <th>std</th>\n",
       "      <td>1443.520003</td>\n",
       "      <td>29.006118</td>\n",
       "      <td>87.798982</td>\n",
       "      <td>41282.539349</td>\n",
       "      <td>116.32032</td>\n",
       "      <td>2441.963725</td>\n",
       "    </tr>\n",
       "    <tr>\n",
       "      <th>min</th>\n",
       "      <td>1.000000</td>\n",
       "      <td>1.000000</td>\n",
       "      <td>607.000000</td>\n",
       "      <td>90.000000</td>\n",
       "      <td>1.00000</td>\n",
       "      <td>90.000000</td>\n",
       "    </tr>\n",
       "    <tr>\n",
       "      <th>25%</th>\n",
       "      <td>1250.750000</td>\n",
       "      <td>24.000000</td>\n",
       "      <td>775.000000</td>\n",
       "      <td>163.000000</td>\n",
       "      <td>1.00000</td>\n",
       "      <td>133.000000</td>\n",
       "    </tr>\n",
       "    <tr>\n",
       "      <th>50%</th>\n",
       "      <td>2500.500000</td>\n",
       "      <td>50.000000</td>\n",
       "      <td>849.000000</td>\n",
       "      <td>284.000000</td>\n",
       "      <td>2.00000</td>\n",
       "      <td>153.000000</td>\n",
       "    </tr>\n",
       "    <tr>\n",
       "      <th>75%</th>\n",
       "      <td>3750.250000</td>\n",
       "      <td>75.000000</td>\n",
       "      <td>925.000000</td>\n",
       "      <td>390.000000</td>\n",
       "      <td>3.00000</td>\n",
       "      <td>169.000000</td>\n",
       "    </tr>\n",
       "    <tr>\n",
       "      <th>max</th>\n",
       "      <td>5000.000000</td>\n",
       "      <td>100.000000</td>\n",
       "      <td>999.000000</td>\n",
       "      <td>704000.000000</td>\n",
       "      <td>2000.00000</td>\n",
       "      <td>25725.000000</td>\n",
       "    </tr>\n",
       "  </tbody>\n",
       "</table>\n",
       "</div>"
      ],
      "text/plain": [
       "          order_id      shop_id      user_id   order_amount  total_items  \\\n",
       "count  5000.000000  5000.000000  5000.000000    5000.000000   5000.00000   \n",
       "mean   2500.500000    50.078800   849.092400    3145.128000      8.78720   \n",
       "std    1443.520003    29.006118    87.798982   41282.539349    116.32032   \n",
       "min       1.000000     1.000000   607.000000      90.000000      1.00000   \n",
       "25%    1250.750000    24.000000   775.000000     163.000000      1.00000   \n",
       "50%    2500.500000    50.000000   849.000000     284.000000      2.00000   \n",
       "75%    3750.250000    75.000000   925.000000     390.000000      3.00000   \n",
       "max    5000.000000   100.000000   999.000000  704000.000000   2000.00000   \n",
       "\n",
       "       price_per_item  \n",
       "count     5000.000000  \n",
       "mean       387.742800  \n",
       "std       2441.963725  \n",
       "min         90.000000  \n",
       "25%        133.000000  \n",
       "50%        153.000000  \n",
       "75%        169.000000  \n",
       "max      25725.000000  "
      ]
     },
     "execution_count": 8,
     "metadata": {},
     "output_type": "execute_result"
    }
   ],
   "source": [
    "data['price_per_item'] = data['order_amount'] / data['total_items']\n",
    "data.describe()"
   ]
  },
  {
   "cell_type": "markdown",
   "id": "81c9fb7f",
   "metadata": {},
   "source": [
    "#### When you are working with big datasets and hundreds/ths/mlns values, visualization can help a lot"
   ]
  },
  {
   "cell_type": "code",
   "execution_count": 9,
   "id": "be5d54d8",
   "metadata": {},
   "outputs": [
    {
     "data": {
      "image/png": "[encoded data removed]",
      "text/plain": [
       "<Figure size 1440x432 with 3 Axes>"
      ]
     },
     "metadata": {
      "needs_background": "light"
     },
     "output_type": "display_data"
    }
   ],
   "source": [
    "fig, ax = plt.subplots(1, 3, figsize=(20,6))\n",
    "ax1 = sns.scatterplot(y=data['order_amount'], x=data['shop_id'][data['order_amount']>3145], ax=ax[0])\n",
    "ax1.set_xticks(data['shop_id'][data['order_amount']>3145])\n",
    "ax1.set_title('Shops with large order_amount')\n",
    "# plt.xticks(data['shop_id'][data['order_amount']>3145]);\n",
    "ax2 = sns.scatterplot(y=data['price_per_item'], x=data['shop_id'][data['price_per_item']>500], ax=ax[1])\n",
    "ax2.set_xticks(data['shop_id'][data['price_per_item']>500]);\n",
    "ax2.set_title('Shop with high price_per_item')\n",
    "# plt.xticks(data['shop_id'][data['price_per_item']>500]);\n",
    "ax3 = sns.scatterplot(y=data['price_per_item'], x=data['shop_id'][data['order_amount']>700000], ax=ax[2])\n",
    "ax3.set_xticks(data['shop_id'][data['shop_id'] == 42])\n",
    "ax3.set_title('Shop with high order_amount');"
   ]
  },
  {
   "cell_type": "markdown",
   "id": "a8a6836c",
   "metadata": {},
   "source": [
    "#### looking at №42 more precisely"
   ]
  },
  {
   "cell_type": "code",
   "execution_count": 25,
   "id": "05e84aba",
   "metadata": {},
   "outputs": [
    {
     "data": {
      "text/html": [
       "<div>\n",
       "<style scoped>\n",
       "    .dataframe tbody tr th:only-of-type {\n",
       "        vertical-align: middle;\n",
       "    }\n",
       "\n",
       "    .dataframe tbody tr th {\n",
       "        vertical-align: top;\n",
       "    }\n",
       "\n",
       "    .dataframe thead th {\n",
       "        text-align: right;\n",
       "    }\n",
       "</style>\n",
       "<table border=\"1\" class=\"dataframe\">\n",
       "  <thead>\n",
       "    <tr style=\"text-align: right;\">\n",
       "      <th></th>\n",
       "      <th>order_id</th>\n",
       "      <th>shop_id</th>\n",
       "      <th>user_id</th>\n",
       "      <th>order_amount</th>\n",
       "      <th>total_items</th>\n",
       "      <th>payment_method</th>\n",
       "      <th>created_at</th>\n",
       "      <th>price_per_item</th>\n",
       "      <th>date</th>\n",
       "    </tr>\n",
       "  </thead>\n",
       "  <tbody>\n",
       "    <tr>\n",
       "      <th>15</th>\n",
       "      <td>16</td>\n",
       "      <td>42</td>\n",
       "      <td>607</td>\n",
       "      <td>704000</td>\n",
       "      <td>2000</td>\n",
       "      <td>credit_card</td>\n",
       "      <td>2017-03-07 4:00:00</td>\n",
       "      <td>352.0</td>\n",
       "      <td>2017-03-07</td>\n",
       "    </tr>\n",
       "    <tr>\n",
       "      <th>60</th>\n",
       "      <td>61</td>\n",
       "      <td>42</td>\n",
       "      <td>607</td>\n",
       "      <td>704000</td>\n",
       "      <td>2000</td>\n",
       "      <td>credit_card</td>\n",
       "      <td>2017-03-04 4:00:00</td>\n",
       "      <td>352.0</td>\n",
       "      <td>2017-03-04</td>\n",
       "    </tr>\n",
       "    <tr>\n",
       "      <th>520</th>\n",
       "      <td>521</td>\n",
       "      <td>42</td>\n",
       "      <td>607</td>\n",
       "      <td>704000</td>\n",
       "      <td>2000</td>\n",
       "      <td>credit_card</td>\n",
       "      <td>2017-03-02 4:00:00</td>\n",
       "      <td>352.0</td>\n",
       "      <td>2017-03-02</td>\n",
       "    </tr>\n",
       "    <tr>\n",
       "      <th>1104</th>\n",
       "      <td>1105</td>\n",
       "      <td>42</td>\n",
       "      <td>607</td>\n",
       "      <td>704000</td>\n",
       "      <td>2000</td>\n",
       "      <td>credit_card</td>\n",
       "      <td>2017-03-24 4:00:00</td>\n",
       "      <td>352.0</td>\n",
       "      <td>2017-03-24</td>\n",
       "    </tr>\n",
       "    <tr>\n",
       "      <th>1362</th>\n",
       "      <td>1363</td>\n",
       "      <td>42</td>\n",
       "      <td>607</td>\n",
       "      <td>704000</td>\n",
       "      <td>2000</td>\n",
       "      <td>credit_card</td>\n",
       "      <td>2017-03-15 4:00:00</td>\n",
       "      <td>352.0</td>\n",
       "      <td>2017-03-15</td>\n",
       "    </tr>\n",
       "  </tbody>\n",
       "</table>\n",
       "</div>"
      ],
      "text/plain": [
       "      order_id  shop_id  user_id  order_amount  total_items payment_method  \\\n",
       "15          16       42      607        704000         2000    credit_card   \n",
       "60          61       42      607        704000         2000    credit_card   \n",
       "520        521       42      607        704000         2000    credit_card   \n",
       "1104      1105       42      607        704000         2000    credit_card   \n",
       "1362      1363       42      607        704000         2000    credit_card   \n",
       "\n",
       "              created_at  price_per_item        date  \n",
       "15    2017-03-07 4:00:00           352.0  2017-03-07  \n",
       "60    2017-03-04 4:00:00           352.0  2017-03-04  \n",
       "520   2017-03-02 4:00:00           352.0  2017-03-02  \n",
       "1104  2017-03-24 4:00:00           352.0  2017-03-24  \n",
       "1362  2017-03-15 4:00:00           352.0  2017-03-15  "
      ]
     },
     "execution_count": 25,
     "metadata": {},
     "output_type": "execute_result"
    }
   ],
   "source": [
    "data[(data['shop_id'] == 42) & (data['order_amount'] > 700000)].head()"
   ]
  },
  {
   "cell_type": "code",
   "execution_count": 11,
   "id": "af92e954",
   "metadata": {},
   "outputs": [
    {
     "data": {
      "text/html": [
       "<div>\n",
       "<style scoped>\n",
       "    .dataframe tbody tr th:only-of-type {\n",
       "        vertical-align: middle;\n",
       "    }\n",
       "\n",
       "    .dataframe tbody tr th {\n",
       "        vertical-align: top;\n",
       "    }\n",
       "\n",
       "    .dataframe thead th {\n",
       "        text-align: right;\n",
       "    }\n",
       "</style>\n",
       "<table border=\"1\" class=\"dataframe\">\n",
       "  <thead>\n",
       "    <tr style=\"text-align: right;\">\n",
       "      <th></th>\n",
       "      <th></th>\n",
       "      <th></th>\n",
       "      <th>order_amount</th>\n",
       "      <th>price_per_item</th>\n",
       "      <th>total_items</th>\n",
       "    </tr>\n",
       "    <tr>\n",
       "      <th>order_amount</th>\n",
       "      <th>user_id</th>\n",
       "      <th>shop_id</th>\n",
       "      <th></th>\n",
       "      <th></th>\n",
       "      <th></th>\n",
       "    </tr>\n",
       "  </thead>\n",
       "  <tbody>\n",
       "    <tr>\n",
       "      <th>704000</th>\n",
       "      <th>607</th>\n",
       "      <th>42</th>\n",
       "      <td>17</td>\n",
       "      <td>352.0</td>\n",
       "      <td>2000</td>\n",
       "    </tr>\n",
       "  </tbody>\n",
       "</table>\n",
       "</div>"
      ],
      "text/plain": [
       "                              order_amount  price_per_item  total_items\n",
       "order_amount user_id shop_id                                           \n",
       "704000       607     42                 17           352.0         2000"
      ]
     },
     "execution_count": 11,
     "metadata": {},
     "output_type": "execute_result"
    }
   ],
   "source": [
    "store_42 = pd.pivot_table(index=[data['order_amount'], data['user_id'], data['shop_id']], data=data[['price_per_item', 'total_items', 'order_amount']][(data['shop_id'] == 42) & (data['order_amount'] > 5000)], \n",
    "               aggfunc={'price_per_item':'mean',\n",
    "                       'total_items':'mean',\n",
    "                       'order_amount':'count'})\n",
    "store_42"
   ]
  },
  {
   "cell_type": "markdown",
   "id": "7100c46f",
   "metadata": {},
   "source": [
    "#### looking at №78 more precisely"
   ]
  },
  {
   "cell_type": "code",
   "execution_count": 12,
   "id": "bc004b53",
   "metadata": {},
   "outputs": [],
   "source": [
    "store_78 = pd.pivot_table(index=[data['price_per_item'], data['user_id']], data=data[['order_amount', 'total_items']][(data['shop_id'] == 78) & (data['price_per_item'] > 500)], \n",
    "               aggfunc='sum')\n",
    "users = []\n",
    "for i in range(len(store_78)):\n",
    "    users.append(store_78.index[i][1])"
   ]
  },
  {
   "cell_type": "code",
   "execution_count": 13,
   "id": "5ea6c635",
   "metadata": {},
   "outputs": [
    {
     "data": {
      "image/png": "[encoded data removed]",
      "text/plain": [
       "<Figure size 1080x432 with 1 Axes>"
      ]
     },
     "metadata": {
      "needs_background": "light"
     },
     "output_type": "display_data"
    }
   ],
   "source": [
    "fig, ax = plt.subplots(figsize=(15,6))\n",
    "sns.scatterplot(x=users, y=store_78['total_items'], hue=users);\n",
    "plt.title('Users who bought very expensive sneakers');"
   ]
  },
  {
   "cell_type": "markdown",
   "id": "6e33e3ac",
   "metadata": {},
   "source": [
    "#### another thought is about payment method, payments with credit_card or debit will cause no issue, but big amounts of cash can, so let's check for our store with biggest order_amount"
   ]
  },
  {
   "cell_type": "code",
   "execution_count": 14,
   "id": "93732c00",
   "metadata": {},
   "outputs": [
    {
     "data": {
      "text/html": [
       "<div>\n",
       "<style scoped>\n",
       "    .dataframe tbody tr th:only-of-type {\n",
       "        vertical-align: middle;\n",
       "    }\n",
       "\n",
       "    .dataframe tbody tr th {\n",
       "        vertical-align: top;\n",
       "    }\n",
       "\n",
       "    .dataframe thead th {\n",
       "        text-align: right;\n",
       "    }\n",
       "</style>\n",
       "<table border=\"1\" class=\"dataframe\">\n",
       "  <thead>\n",
       "    <tr style=\"text-align: right;\">\n",
       "      <th></th>\n",
       "      <th></th>\n",
       "      <th>order_amount</th>\n",
       "      <th>total_items</th>\n",
       "    </tr>\n",
       "    <tr>\n",
       "      <th>shop_id</th>\n",
       "      <th>payment_method</th>\n",
       "      <th></th>\n",
       "      <th></th>\n",
       "    </tr>\n",
       "  </thead>\n",
       "  <tbody>\n",
       "    <tr>\n",
       "      <th>42</th>\n",
       "      <th>credit_card</th>\n",
       "      <td>11968000</td>\n",
       "      <td>34000</td>\n",
       "    </tr>\n",
       "    <tr>\n",
       "      <th rowspan=\"3\" valign=\"top\">78</th>\n",
       "      <th>cash</th>\n",
       "      <td>694575</td>\n",
       "      <td>27</td>\n",
       "    </tr>\n",
       "    <tr>\n",
       "      <th>credit_card</th>\n",
       "      <td>463050</td>\n",
       "      <td>18</td>\n",
       "    </tr>\n",
       "    <tr>\n",
       "      <th>debit</th>\n",
       "      <td>1106175</td>\n",
       "      <td>43</td>\n",
       "    </tr>\n",
       "  </tbody>\n",
       "</table>\n",
       "</div>"
      ],
      "text/plain": [
       "                        order_amount  total_items\n",
       "shop_id payment_method                           \n",
       "42      credit_card         11968000        34000\n",
       "78      cash                  694575           27\n",
       "        credit_card           463050           18\n",
       "        debit                1106175           43"
      ]
     },
     "execution_count": 14,
     "metadata": {},
     "output_type": "execute_result"
    }
   ],
   "source": [
    "payment_method = pd.pivot_table(index=[data['shop_id'], data['payment_method']], data=data[['order_amount', 'total_items']][data['order_amount'] > 5000], \n",
    "               aggfunc='sum')\n",
    "payment_method"
   ]
  },
  {
   "cell_type": "markdown",
   "id": "b1c19523",
   "metadata": {},
   "source": [
    "#### AOV without shops 78 and 42(because our hypotheses found that these two shops can give significant misstatement to AOV)"
   ]
  },
  {
   "cell_type": "code",
   "execution_count": 15,
   "id": "03ac4eba",
   "metadata": {},
   "outputs": [
    {
     "name": "stdout",
     "output_type": "stream",
     "text": [
      "AOV without shops №42 and №78 = 300.1558229655313\n"
     ]
    }
   ],
   "source": [
    "aov = data['order_amount'][(data['shop_id'] != 78) & (data['shop_id'] != 42)].mean()\n",
    "print(f'AOV without shops №42 and №78 = {aov}')"
   ]
  },
  {
   "cell_type": "markdown",
   "id": "e114265f",
   "metadata": {},
   "source": [
    "#### trying to define AOV by total_items"
   ]
  },
  {
   "cell_type": "code",
   "execution_count": 16,
   "id": "8aee7387",
   "metadata": {},
   "outputs": [
    {
     "data": {
      "text/plain": [
       "array([   2,    1,    3, 2000,    4,    5,    6,    8], dtype=int64)"
      ]
     },
     "execution_count": 16,
     "metadata": {},
     "output_type": "execute_result"
    }
   ],
   "source": [
    "data['total_items'].unique()"
   ]
  },
  {
   "cell_type": "code",
   "execution_count": 17,
   "id": "07965175",
   "metadata": {},
   "outputs": [
    {
     "data": {
      "text/html": [
       "<div>\n",
       "<style scoped>\n",
       "    .dataframe tbody tr th:only-of-type {\n",
       "        vertical-align: middle;\n",
       "    }\n",
       "\n",
       "    .dataframe tbody tr th {\n",
       "        vertical-align: top;\n",
       "    }\n",
       "\n",
       "    .dataframe thead th {\n",
       "        text-align: right;\n",
       "    }\n",
       "</style>\n",
       "<table border=\"1\" class=\"dataframe\">\n",
       "  <thead>\n",
       "    <tr style=\"text-align: right;\">\n",
       "      <th></th>\n",
       "      <th>Total Items in Order</th>\n",
       "      <th>AOV</th>\n",
       "      <th>Median Order Value</th>\n",
       "      <th>Standard Deviation</th>\n",
       "    </tr>\n",
       "  </thead>\n",
       "  <tbody>\n",
       "    <tr>\n",
       "      <th>0</th>\n",
       "      <td>1</td>\n",
       "      <td>417.364481</td>\n",
       "      <td>153.0</td>\n",
       "      <td>2593.090627</td>\n",
       "    </tr>\n",
       "    <tr>\n",
       "      <th>1</th>\n",
       "      <td>2</td>\n",
       "      <td>750.215066</td>\n",
       "      <td>306.0</td>\n",
       "      <td>4760.572162</td>\n",
       "    </tr>\n",
       "    <tr>\n",
       "      <th>2</th>\n",
       "      <td>3</td>\n",
       "      <td>1191.076514</td>\n",
       "      <td>459.0</td>\n",
       "      <td>7471.160149</td>\n",
       "    </tr>\n",
       "    <tr>\n",
       "      <th>3</th>\n",
       "      <td>4</td>\n",
       "      <td>947.686007</td>\n",
       "      <td>592.0</td>\n",
       "      <td>5977.632918</td>\n",
       "    </tr>\n",
       "    <tr>\n",
       "      <th>4</th>\n",
       "      <td>5</td>\n",
       "      <td>759.350649</td>\n",
       "      <td>765.0</td>\n",
       "      <td>161.174453</td>\n",
       "    </tr>\n",
       "    <tr>\n",
       "      <th>5</th>\n",
       "      <td>6</td>\n",
       "      <td>17940.000000</td>\n",
       "      <td>948.0</td>\n",
       "      <td>51153.864136</td>\n",
       "    </tr>\n",
       "    <tr>\n",
       "      <th>6</th>\n",
       "      <td>8</td>\n",
       "      <td>1064.000000</td>\n",
       "      <td>1064.0</td>\n",
       "      <td>NaN</td>\n",
       "    </tr>\n",
       "    <tr>\n",
       "      <th>7</th>\n",
       "      <td>2000</td>\n",
       "      <td>704000.000000</td>\n",
       "      <td>704000.0</td>\n",
       "      <td>0.000000</td>\n",
       "    </tr>\n",
       "  </tbody>\n",
       "</table>\n",
       "</div>"
      ],
      "text/plain": [
       "   Total Items in Order            AOV  Median Order Value  Standard Deviation\n",
       "0                     1     417.364481               153.0         2593.090627\n",
       "1                     2     750.215066               306.0         4760.572162\n",
       "2                     3    1191.076514               459.0         7471.160149\n",
       "3                     4     947.686007               592.0         5977.632918\n",
       "4                     5     759.350649               765.0          161.174453\n",
       "5                     6   17940.000000               948.0        51153.864136\n",
       "6                     8    1064.000000              1064.0                 NaN\n",
       "7                  2000  704000.000000            704000.0            0.000000"
      ]
     },
     "execution_count": 17,
     "metadata": {},
     "output_type": "execute_result"
    }
   ],
   "source": [
    "totalItems_group = data.groupby(by=data['total_items'])['order_amount'].mean().rename_axis('Total Items in Order').reset_index(name='AOV')\n",
    "standard_deviation = data.groupby(by=data['total_items'])['order_amount'].std().rename_axis('Total Items in Order').reset_index(name='std')['std']\n",
    "median =  data.groupby(by=data['total_items'])['order_amount'].median().rename_axis('Total Items in Order').reset_index(name='Median')['Median']\n",
    "totalItems_group['Median Order Value'] = median\n",
    "totalItems_group['Standard Deviation'] = standard_deviation\n",
    "totalItems_group"
   ]
  },
  {
   "cell_type": "markdown",
   "id": "742e5080",
   "metadata": {},
   "source": [
    "#### looks good, but smth wrong with std, , knowing that shop 78 has sneakers price of 25725, we shoould exclude it from our metrics, because it will cause significant misstatement to AOV "
   ]
  },
  {
   "cell_type": "code",
   "execution_count": 18,
   "id": "f3d3849b",
   "metadata": {},
   "outputs": [
    {
     "data": {
      "text/html": [
       "<div>\n",
       "<style scoped>\n",
       "    .dataframe tbody tr th:only-of-type {\n",
       "        vertical-align: middle;\n",
       "    }\n",
       "\n",
       "    .dataframe tbody tr th {\n",
       "        vertical-align: top;\n",
       "    }\n",
       "\n",
       "    .dataframe thead th {\n",
       "        text-align: right;\n",
       "    }\n",
       "</style>\n",
       "<table border=\"1\" class=\"dataframe\">\n",
       "  <thead>\n",
       "    <tr style=\"text-align: right;\">\n",
       "      <th></th>\n",
       "      <th>Total Items in Order</th>\n",
       "      <th>AOV</th>\n",
       "      <th>Median Order Value</th>\n",
       "      <th>Standard Deviation</th>\n",
       "    </tr>\n",
       "  </thead>\n",
       "  <tbody>\n",
       "    <tr>\n",
       "      <th>0</th>\n",
       "      <td>1.0</td>\n",
       "      <td>151.850911</td>\n",
       "      <td>153.0</td>\n",
       "      <td>30.564358</td>\n",
       "    </tr>\n",
       "    <tr>\n",
       "      <th>1</th>\n",
       "      <td>2.0</td>\n",
       "      <td>303.520925</td>\n",
       "      <td>306.0</td>\n",
       "      <td>58.407721</td>\n",
       "    </tr>\n",
       "    <tr>\n",
       "      <th>2</th>\n",
       "      <td>3.0</td>\n",
       "      <td>457.326180</td>\n",
       "      <td>459.0</td>\n",
       "      <td>75.814367</td>\n",
       "    </tr>\n",
       "    <tr>\n",
       "      <th>3</th>\n",
       "      <td>4.0</td>\n",
       "      <td>598.534247</td>\n",
       "      <td>592.0</td>\n",
       "      <td>115.777198</td>\n",
       "    </tr>\n",
       "    <tr>\n",
       "      <th>4</th>\n",
       "      <td>5.0</td>\n",
       "      <td>759.350649</td>\n",
       "      <td>765.0</td>\n",
       "      <td>161.174453</td>\n",
       "    </tr>\n",
       "    <tr>\n",
       "      <th>5</th>\n",
       "      <td>6.0</td>\n",
       "      <td>888.750000</td>\n",
       "      <td>882.0</td>\n",
       "      <td>115.520870</td>\n",
       "    </tr>\n",
       "    <tr>\n",
       "      <th>6</th>\n",
       "      <td>8.0</td>\n",
       "      <td>1064.000000</td>\n",
       "      <td>1064.0</td>\n",
       "      <td>NaN</td>\n",
       "    </tr>\n",
       "    <tr>\n",
       "      <th>7</th>\n",
       "      <td>2000.0</td>\n",
       "      <td>704000.000000</td>\n",
       "      <td>704000.0</td>\n",
       "      <td>0.000000</td>\n",
       "    </tr>\n",
       "  </tbody>\n",
       "</table>\n",
       "</div>"
      ],
      "text/plain": [
       "   Total Items in Order            AOV  Median Order Value  Standard Deviation\n",
       "0                   1.0     151.850911               153.0           30.564358\n",
       "1                   2.0     303.520925               306.0           58.407721\n",
       "2                   3.0     457.326180               459.0           75.814367\n",
       "3                   4.0     598.534247               592.0          115.777198\n",
       "4                   5.0     759.350649               765.0          161.174453\n",
       "5                   6.0     888.750000               882.0          115.520870\n",
       "6                   8.0    1064.000000              1064.0                 NaN\n",
       "7                2000.0  704000.000000            704000.0            0.000000"
      ]
     },
     "execution_count": 18,
     "metadata": {},
     "output_type": "execute_result"
    }
   ],
   "source": [
    "totalItems_group_wo78 = data.groupby(by=data['total_items'][data['shop_id'] != 78])['order_amount'].mean().rename_axis('Total Items in Order').reset_index(name='AOV')\n",
    "standard_deviation_wo78 = data.groupby(by=data['total_items'][data['shop_id'] != 78])['order_amount'].std().rename_axis('Total Items in Order').reset_index(name='std')['std']\n",
    "median_wo78 =  data.groupby(by=data['total_items'][data['shop_id'] != 78])['order_amount'].median().rename_axis('Total Items in Order').reset_index(name='Median')['Median']\n",
    "totalItems_group_wo78['Median Order Value'] = median_wo78\n",
    "totalItems_group_wo78['Standard Deviation'] = standard_deviation_wo78\n",
    "totalItems_group_wo78\n"
   ]
  },
  {
   "cell_type": "code",
   "execution_count": 19,
   "id": "af40cc16",
   "metadata": {},
   "outputs": [],
   "source": [
    "#### what else could we propose due to our research"
   ]
  },
  {
   "cell_type": "code",
   "execution_count": 20,
   "id": "d9b44a05",
   "metadata": {},
   "outputs": [
    {
     "data": {
      "text/html": [
       "<div>\n",
       "<style scoped>\n",
       "    .dataframe tbody tr th:only-of-type {\n",
       "        vertical-align: middle;\n",
       "    }\n",
       "\n",
       "    .dataframe tbody tr th {\n",
       "        vertical-align: top;\n",
       "    }\n",
       "\n",
       "    .dataframe thead th {\n",
       "        text-align: right;\n",
       "    }\n",
       "</style>\n",
       "<table border=\"1\" class=\"dataframe\">\n",
       "  <thead>\n",
       "    <tr style=\"text-align: right;\">\n",
       "      <th></th>\n",
       "      <th>payment_method</th>\n",
       "      <th>order_amount</th>\n",
       "    </tr>\n",
       "  </thead>\n",
       "  <tbody>\n",
       "    <tr>\n",
       "      <th>0</th>\n",
       "      <td>cash</td>\n",
       "      <td>6106</td>\n",
       "    </tr>\n",
       "    <tr>\n",
       "      <th>1</th>\n",
       "      <td>credit_card</td>\n",
       "      <td>3834</td>\n",
       "    </tr>\n",
       "    <tr>\n",
       "      <th>2</th>\n",
       "      <td>debit</td>\n",
       "      <td>3124</td>\n",
       "    </tr>\n",
       "  </tbody>\n",
       "</table>\n",
       "</div>"
      ],
      "text/plain": [
       "  payment_method  order_amount\n",
       "0           cash          6106\n",
       "1    credit_card          3834\n",
       "2          debit          3124"
      ]
     },
     "execution_count": 20,
     "metadata": {},
     "output_type": "execute_result"
    }
   ],
   "source": [
    "payment_method_shop = data.groupby(by=data['payment_method'][data['shop_id'] == 5])['order_amount'].sum().rename_axis('payment_method').reset_index(name='order_amount')\n",
    "payment_method_shop"
   ]
  },
  {
   "cell_type": "code",
   "execution_count": 21,
   "id": "534e72bb",
   "metadata": {},
   "outputs": [
    {
     "data": {
      "image/png": "[encoded data removed]",
      "text/plain": [
       "<Figure size 432x432 with 1 Axes>"
      ]
     },
     "metadata": {},
     "output_type": "display_data"
    }
   ],
   "source": [
    "import matplotlib.pyplot as plt\n",
    "\n",
    "labels = payment_method_shop['payment_method']\n",
    "sizes = payment_method_shop['order_amount']\n",
    "explode = (0.1, 0, 0)\n",
    "\n",
    "def func(pct, allvals):\n",
    "    absolute = int(pct/100.*np.sum(allvals))\n",
    "    return \"{:.1f}%\\n({:d})\".format(pct, absolute)\n",
    "\n",
    "fig1, ax1 = plt.subplots(figsize=(6, 6))\n",
    "colors = ['#ff9999','#66b3ff','#99ff99','#ffcc99']\n",
    "ax1.pie(sizes, explode=explode, labels=labels, autopct=lambda pct: func(pct, sizes), pctdistance=0.8,\n",
    "        shadow=True, startangle=90, colors=colors)\n",
    "ax1.axis('equal')\n",
    "plt.title('Share of payment type')\n",
    "plt.show()"
   ]
  },
  {
   "cell_type": "code",
   "execution_count": 22,
   "id": "764babfd",
   "metadata": {},
   "outputs": [
    {
     "data": {
      "text/html": [
       "<div>\n",
       "<style scoped>\n",
       "    .dataframe tbody tr th:only-of-type {\n",
       "        vertical-align: middle;\n",
       "    }\n",
       "\n",
       "    .dataframe tbody tr th {\n",
       "        vertical-align: top;\n",
       "    }\n",
       "\n",
       "    .dataframe thead th {\n",
       "        text-align: right;\n",
       "    }\n",
       "</style>\n",
       "<table border=\"1\" class=\"dataframe\">\n",
       "  <thead>\n",
       "    <tr style=\"text-align: right;\">\n",
       "      <th></th>\n",
       "      <th>avg_order_amount</th>\n",
       "      <th>avg_price_per_item</th>\n",
       "      <th>total_items</th>\n",
       "      <th>unique_users</th>\n",
       "      <th>average_item_purchase</th>\n",
       "    </tr>\n",
       "    <tr>\n",
       "      <th>shop_id</th>\n",
       "      <th></th>\n",
       "      <th></th>\n",
       "      <th></th>\n",
       "      <th></th>\n",
       "      <th></th>\n",
       "    </tr>\n",
       "  </thead>\n",
       "  <tbody>\n",
       "    <tr>\n",
       "      <th>5.0</th>\n",
       "      <td>290.311111</td>\n",
       "      <td>142.0</td>\n",
       "      <td>92</td>\n",
       "      <td>44</td>\n",
       "      <td>2.090909</td>\n",
       "    </tr>\n",
       "  </tbody>\n",
       "</table>\n",
       "</div>"
      ],
      "text/plain": [
       "         avg_order_amount  avg_price_per_item  total_items  unique_users  \\\n",
       "shop_id                                                                    \n",
       "5.0            290.311111               142.0           92            44   \n",
       "\n",
       "         average_item_purchase  \n",
       "shop_id                         \n",
       "5.0                   2.090909  "
      ]
     },
     "execution_count": 22,
     "metadata": {},
     "output_type": "execute_result"
    }
   ],
   "source": [
    "shop_metrics = pd.pivot_table(index=data['shop_id'][data['shop_id'] == 5], data=data[['order_amount', 'price_per_item', 'total_items', 'user_id']],\n",
    "                              aggfunc={'order_amount':'mean',\n",
    "                                       'price_per_item':'mean',\n",
    "                                       'total_items': 'sum',\n",
    "                                      'user_id': 'nunique'})\n",
    "shop_metrics.columns = ['avg_order_amount', 'avg_price_per_item', 'total_items', 'unique_users']\n",
    "shop_metrics['average_item_purchase'] = shop_metrics['total_items']/shop_metrics['unique_users']\n",
    "shop_metrics"
   ]
  },
  {
   "cell_type": "markdown",
   "id": "7b5e70fa",
   "metadata": {},
   "source": [
    "#### another thought in my head was about days, probably in some days(like weekend as an example) people buy more sneakers, so let's check this hypothesis. (looking ahead, our data didn't show us any proof of it)"
   ]
  },
  {
   "cell_type": "code",
   "execution_count": 26,
   "id": "e5c1e1da",
   "metadata": {
    "scrolled": true
   },
   "outputs": [
    {
     "data": {
      "text/html": [
       "<div>\n",
       "<style scoped>\n",
       "    .dataframe tbody tr th:only-of-type {\n",
       "        vertical-align: middle;\n",
       "    }\n",
       "\n",
       "    .dataframe tbody tr th {\n",
       "        vertical-align: top;\n",
       "    }\n",
       "\n",
       "    .dataframe thead th {\n",
       "        text-align: right;\n",
       "    }\n",
       "</style>\n",
       "<table border=\"1\" class=\"dataframe\">\n",
       "  <thead>\n",
       "    <tr style=\"text-align: right;\">\n",
       "      <th></th>\n",
       "      <th>order_id</th>\n",
       "      <th>shop_id</th>\n",
       "      <th>user_id</th>\n",
       "      <th>order_amount</th>\n",
       "      <th>total_items</th>\n",
       "      <th>payment_method</th>\n",
       "      <th>created_at</th>\n",
       "      <th>price_per_item</th>\n",
       "      <th>date</th>\n",
       "    </tr>\n",
       "  </thead>\n",
       "  <tbody>\n",
       "    <tr>\n",
       "      <th>0</th>\n",
       "      <td>1</td>\n",
       "      <td>53</td>\n",
       "      <td>746</td>\n",
       "      <td>224</td>\n",
       "      <td>2</td>\n",
       "      <td>cash</td>\n",
       "      <td>2017-03-13 12:36:56</td>\n",
       "      <td>112.0</td>\n",
       "      <td>2017-03-13</td>\n",
       "    </tr>\n",
       "    <tr>\n",
       "      <th>1</th>\n",
       "      <td>2</td>\n",
       "      <td>92</td>\n",
       "      <td>925</td>\n",
       "      <td>90</td>\n",
       "      <td>1</td>\n",
       "      <td>cash</td>\n",
       "      <td>2017-03-03 17:38:52</td>\n",
       "      <td>90.0</td>\n",
       "      <td>2017-03-03</td>\n",
       "    </tr>\n",
       "    <tr>\n",
       "      <th>2</th>\n",
       "      <td>3</td>\n",
       "      <td>44</td>\n",
       "      <td>861</td>\n",
       "      <td>144</td>\n",
       "      <td>1</td>\n",
       "      <td>cash</td>\n",
       "      <td>2017-03-14 4:23:56</td>\n",
       "      <td>144.0</td>\n",
       "      <td>2017-03-14</td>\n",
       "    </tr>\n",
       "    <tr>\n",
       "      <th>3</th>\n",
       "      <td>4</td>\n",
       "      <td>18</td>\n",
       "      <td>935</td>\n",
       "      <td>156</td>\n",
       "      <td>1</td>\n",
       "      <td>credit_card</td>\n",
       "      <td>2017-03-26 12:43:37</td>\n",
       "      <td>156.0</td>\n",
       "      <td>2017-03-26</td>\n",
       "    </tr>\n",
       "    <tr>\n",
       "      <th>4</th>\n",
       "      <td>5</td>\n",
       "      <td>18</td>\n",
       "      <td>883</td>\n",
       "      <td>156</td>\n",
       "      <td>1</td>\n",
       "      <td>credit_card</td>\n",
       "      <td>2017-03-01 4:35:11</td>\n",
       "      <td>156.0</td>\n",
       "      <td>2017-03-01</td>\n",
       "    </tr>\n",
       "  </tbody>\n",
       "</table>\n",
       "</div>"
      ],
      "text/plain": [
       "   order_id  shop_id  user_id  order_amount  total_items payment_method  \\\n",
       "0         1       53      746           224            2           cash   \n",
       "1         2       92      925            90            1           cash   \n",
       "2         3       44      861           144            1           cash   \n",
       "3         4       18      935           156            1    credit_card   \n",
       "4         5       18      883           156            1    credit_card   \n",
       "\n",
       "            created_at  price_per_item        date  \n",
       "0  2017-03-13 12:36:56           112.0  2017-03-13  \n",
       "1  2017-03-03 17:38:52            90.0  2017-03-03  \n",
       "2   2017-03-14 4:23:56           144.0  2017-03-14  \n",
       "3  2017-03-26 12:43:37           156.0  2017-03-26  \n",
       "4   2017-03-01 4:35:11           156.0  2017-03-01  "
      ]
     },
     "execution_count": 26,
     "metadata": {},
     "output_type": "execute_result"
    }
   ],
   "source": [
    "data['date'] = pd.to_datetime(data['created_at']).dt.date\n",
    "data.head()"
   ]
  },
  {
   "cell_type": "code",
   "execution_count": 24,
   "id": "d6506710",
   "metadata": {},
   "outputs": [
    {
     "data": {
      "image/png": "[encoded data removed]",
      "text/plain": [
       "<Figure size 864x432 with 1 Axes>"
      ]
     },
     "metadata": {
      "needs_background": "light"
     },
     "output_type": "display_data"
    }
   ],
   "source": [
    "fig, ax = plt.subplots(figsize=(12, 6))\n",
    "ax.bar(data['date'][(data['shop_id'] != 42) & (data['shop_id'] != 78)], \n",
    "       data['order_amount'][(data['shop_id'] != 42) & (data['shop_id'] != 78)]);"
   ]
  },
  {
   "cell_type": "code",
   "execution_count": null,
   "id": "2ab86e95",
   "metadata": {},
   "outputs": [],
   "source": []
  }
 ],
 "metadata": {
  "kernelspec": {
   "display_name": "Python 3 (ipykernel)",
   "language": "python",
   "name": "python3"
  },
  "language_info": {
   "codemirror_mode": {
    "name": "ipython",
    "version": 3
   },
   "file_extension": ".py",
   "mimetype": "text/x-python",
   "name": "python",
   "nbconvert_exporter": "python",
   "pygments_lexer": "ipython3",
   "version": "3.9.6"
  }
 },
 "nbformat": 4,
 "nbformat_minor": 5
}
